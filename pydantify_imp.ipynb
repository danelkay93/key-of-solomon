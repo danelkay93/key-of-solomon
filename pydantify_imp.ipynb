{
 "cells": [
  {
   "cell_type": "markdown",
   "metadata": {},
   "source": [
    "# Schema to Pydantic Model Generator\n",
    "\n",
    "This notebook processes JSON schema files from the `schema_imp` directory and generates Pydantic v2 models that can be used as the basis for a PostgreSQL database schema."
   ]
  },
  {
   "cell_type": "code",
   "execution_count": null,
   "metadata": {},
   "outputs": [],
   "source": [
    "%env UV_LINK_MODE=copy\n",
    "!uv add datamodel-code-generator datamodel-code-generator[graphql,http] tomli tomli-w python-dotenv sqlalchemy\n",
    "!uv sync"
   ]
  },
  {
   "cell_type": "code",
   "execution_count": null,
   "metadata": {},
   "outputs": [],
   "source": [
    "from pathlib import Path\n",
    "import json\n",
    "import tomli\n",
    "import tomli_w\n",
    "from datamodel_code_generator import InputFileType, generate, PythonVersion\n",
    "from datamodel_code_generator import DataModelType\n",
    "from datamodel_code_generator.model.pydantic_v2 import UnionMode\n",
    "from pprint import pprint\n",
    "import os\n",
    "import re"
   ]
  },
  {
   "cell_type": "markdown",
   "metadata": {},
   "source": [
    "## Configuration\n",
    "\n",
    "Load the datamodel-codegen configuration from pyproject.toml"
   ]
  },
  {
   "cell_type": "code",
   "execution_count": null,
   "metadata": {},
   "outputs": [],
   "source": [
    "# Load existing configuration\n",
    "pyproject_path = Path('pyproject.toml')\n",
    "pyproject = tomli.loads(pyproject_path.read_text())\n",
    "datamodel_codegen_config = pyproject.get('tool', {}).get('datamodel-codegen', {})\n",
    "\n",
    "print(\"Using datamodel-codegen configuration:\")\n",
    "pprint(datamodel_codegen_config)"
   ]
  },
  {
   "cell_type": "markdown",
   "metadata": {},
   "source": [
    "## Create Output Directory Structure"
   ]
  },
  {
   "cell_type": "code",
   "execution_count": null,
   "metadata": {},
   "outputs": [],
   "source": [
    "# Create output directory for models\n",
    "models_dir = Path('models')\n",
    "models_dir.mkdir(exist_ok=True)\n",
    "\n",
    "# Create __init__.py to make the directory a proper package\n",
    "init_file = models_dir / '__init__.py'\n",
    "if not init_file.exists():\n",
    "    init_file.write_text('# Generated Pydantic models\\n')\n",
    "else:\n",
    "    # Reset the __init__.py file\n",
    "    init_file.write_text('# Generated Pydantic models\\n')"
   ]
  },
  {
   "cell_type": "markdown",
   "metadata": {},
   "source": [
    "## Process Schema Files\n",
    "\n",
    "Find all JSON schema files in the schema_imp directory and generate Pydantic models"
   ]
  },
  {
   "cell_type": "code",
   "execution_count": null,
   "metadata": {},
   "outputs": [],
   "source": [
    "# Get all JSON files in the schema_imp directory\n",
    "schema_dir = Path('schema_imp')\n",
    "schema_files = list(schema_dir.glob('*.json'))\n",
    "\n",
    "print(f\"Found {len(schema_files)} schema files to process:\")\n",
    "for file in schema_files:\n",
    "    print(f\"  - {file.name}\")"
   ]
  },
  {
   "cell_type": "code",
   "execution_count": null,
   "metadata": {},
   "outputs": [],
   "source": [
    "def clean_model_name(name):\n",
    "    \"\"\"Convert file name to a proper model name in PascalCase\"\"\"\n",
    "    # Remove .json extension and convert to singular form if plural\n",
    "    name = name.replace('.json', '')\n",
    "    if name.endswith('s') and not name.endswith('ss'):  # Handle plurals but not words ending with 'ss'\n",
    "        name = name[:-1]\n",
    "    \n",
    "    # Convert to PascalCase\n",
    "    words = re.findall(r'[a-z]+|[A-Z][a-z]*', name)\n",
    "    return ''.join(word.capitalize() for word in words)\n",
    "\n",
    "def generate_model(schema_file):\n",
    "    \"\"\"Generate a Pydantic model from a JSON schema file\"\"\"\n",
    "    # Read schema file\n",
    "    schema_content = schema_file.read_text()\n",
    "    \n",
    "    # Determine model name and output path\n",
    "    model_name = clean_model_name(schema_file.name)\n",
    "    output_path = models_dir / f\"{model_name.lower()}.py\"\n",
    "    \n",
    "    print(f\"Generating model {model_name} from {schema_file.name}...\")\n",
    "    \n",
    "    # Generate model\n",
    "    generate(\n",
    "        schema_content,\n",
    "        input_file_type=InputFileType.JsonSchema,\n",
    "        input_filename=str(schema_file),\n",
    "        output=output_path,\n",
    "        output_model_type=DataModelType.PydanticV2BaseModel,\n",
    "        target_python_version=PythonVersion.PY_311,\n",
    "        union_mode=UnionMode.smart,\n",
    "        **datamodel_codegen_config\n",
    "    )\n",
    "    \n",
    "    # Add model to __init__.py for easy importing\n",
    "    with open(init_file, 'a') as f:\n",
    "        f.write(f\"from .{model_name.lower()} import {model_name}\\n\")\n",
    "    \n",
    "    return output_path"
   ]
  },
  {
   "cell_type": "code",
   "execution_count": null,
   "metadata": {},
   "outputs": [],
   "source": [
    "# Process each schema file\n",
    "generated_models = []\n",
    "for schema_file in schema_files:\n",
    "    try:\n",
    "        output_path = generate_model(schema_file)\n",
    "        generated_models.append(output_path)\n",
    "    except Exception as e:\n",
    "        print(f\"Error processing {schema_file.name}: {str(e)}\")\n",
    "\n",
    "print(f\"\\nSuccessfully generated {len(generated_models)} models:\")\n",
    "for model in generated_models:\n",
    "    print(f\"  - {model}\")"
   ]
  },
  {
   "cell_type": "markdown",
   "metadata": {},
   "source": [
    "## Create Database Model Relationships\n",
    "\n",
    "Generate a relationships.py file that defines the relationships between models for PostgreSQL"
   ]
  },
  {
   "cell_type": "code",
   "execution_count": null,
   "metadata": {},
   "outputs": [],
   "source": [
    "# Create a relationships.py file to define model relationships\n",
    "relationships_file = models_dir / 'relationships.py'\n",
    "relationships_content = \"\"\"\n",
    "# Generated relationships for PostgreSQL database models\n",
    "from sqlalchemy import Column, ForeignKey, Table\n",
    "from sqlalchemy.ext.declarative import declarative_base\n",
    "from sqlalchemy.orm import relationship\n",
    "\n",
    "Base = declarative_base()\n",
    "\n",
    "# Define relationships between models\n",
    "# This file should be customized based on your specific data relationships\n",
    "\n",
    "# Example relationship definitions:\n",
    "'''\n",
    "# Many-to-many relationship between cards and packs\n",
    "card_pack_association = Table(\n",
    "    'card_pack_association',\n",
    "    Base.metadata,\n",
    "    Column('card_id', ForeignKey('card.id'), primary_key=True),\n",
    "    Column('pack_id', ForeignKey('pack.id'), primary_key=True)\n",
    ")\n",
    "\n",
    "# One-to-many relationship between factions and cards\n",
    "class Card(Base):\n",
    "    __tablename__ = 'card'\n",
    "    faction_id = Column(ForeignKey('faction.id'))\n",
    "    faction = relationship(\"Faction\", back_populates=\"cards\")\n",
    "\n",
    "class Faction(Base):\n",
    "    __tablename__ = 'faction'\n",
    "    cards = relationship(\"Card\", back_populates=\"faction\")\n",
    "'''\n",
    "\"\"\"\n",
    "relationships_file.write_text(relationships_content)\n",
    "\n",
    "print(f\"Created relationships file at {relationships_file}\")"
   ]
  },
  {
   "cell_type": "markdown",
   "metadata": {},
   "source": [
    "## Create Database Setup Script\n",
    "\n",
    "Generate a script to set up the PostgreSQL database with SQLAlchemy"
   ]
  },
  {
   "cell_type": "code",
   "execution_count": null,
   "metadata": {},
   "outputs": [],
   "source": [
    "# Create a db_setup.py file\n",
    "db_setup_file = Path('db_setup.py')\n",
    "db_setup_content = \"\"\"\n",
    "# PostgreSQL database setup script\n",
    "from sqlalchemy import create_engine\n",
    "from sqlalchemy.ext.declarative import declarative_base\n",
    "from sqlalchemy.orm import sessionmaker\n",
    "import os\n",
    "from dotenv import load_dotenv\n",
    "\n",
    "# Load environment variables from .env file\n",
    "load_dotenv()\n",
    "\n",
    "# Database connection settings\n",
    "DB_USER = os.getenv(\"DB_USER\", \"postgres\")\n",
    "DB_PASSWORD = os.getenv(\"DB_PASSWORD\", \"postgres\")\n",
    "DB_HOST = os.getenv(\"DB_HOST\", \"localhost\")\n",
    "DB_PORT = os.getenv(\"DB_PORT\", \"5432\")\n",
    "DB_NAME = os.getenv(\"DB_NAME\", \"arkhamdb\")\n",
    "\n",
    "# Create SQLAlchemy engine\n",
    "DATABASE_URL = f\"postgresql://{DB_USER}:{DB_PASSWORD}@{DB_HOST}:{DB_PORT}/{DB_NAME}\"\n",
    "engine = create_engine(DATABASE_URL)\n",
    "\n",
    "# Create session factory\n",
    "SessionLocal = sessionmaker(autocommit=False, autoflush=False, bind=engine)\n",
    "\n",
    "# Base class for models\n",
    "Base = declarative_base()\n",
    "\n",
    "def get_db():\n",
    "    \"\"\"Get database session\"\"\"\n",
    "    db = SessionLocal()\n",
    "    try:\n",
    "        yield db\n",
    "    finally:\n",
    "        db.close()\n",
    "\n",
    "def init_db():\n",
    "    \"\"\"Initialize database tables\"\"\"\n",
    "    # Import all models to ensure they're registered with Base.metadata\n",
    "    from models import *\n",
    "    from models.relationships import *\n",
    "    \n",
    "    # Create tables\n",
    "    Base.metadata.create_all(bind=engine)\n",
    "\n",
    "if __name__ == \"__main__\":\n",
    "    print(\"Initializing database...\")\n",
    "    init_db()\n",
    "    print(\"Database initialized successfully!\")\n",
    "\"\"\"\n",
    "db_setup_file.write_text(db_setup_content)\n",
    "\n",
    "print(f\"Created database setup script at {db_setup_file}\")"
   ]
  },
  {
   "cell_type": "markdown",
   "metadata": {},
   "source": [
    "## Summary\n",
    "\n",
    "This notebook has:\n",
    "1. Used the datamodel-codegen configuration from pyproject.toml\n",
    "2. Created Pydantic v2 models from all JSON schema files in schema_imp\n",
    "3. Generated a relationships.py template for defining model relationships\n",
    "4. Created a database setup script for PostgreSQL integration\n",
    "\n",
    "Next steps:\n",
    "1. Review and customize the generated models\n",
    "2. Define relationships between models in relationships.py\n",
    "3. Set up a PostgreSQL database and run the db_setup.py script\n",
    "4. Create data import/export utilities"
   ]
  }
 ],
 "metadata": {
  "kernelspec": {
   "display_name": "Python 3 (ipykernel)",
   "language": "python",
   "name": "python3"
  },
  "language_info": {
   "codemirror_mode": {
    "name": "ipython",
    "version": 3
   },
   "file_extension": ".py",
   "mimetype": "text/x-python",
   "name": "python",
   "nbconvert_exporter": "python",
   "pygments_lexer": "ipython3",
   "version": "3.13.0"
  }
 },
 "nbformat": 4,
 "nbformat_minor": 5
}
